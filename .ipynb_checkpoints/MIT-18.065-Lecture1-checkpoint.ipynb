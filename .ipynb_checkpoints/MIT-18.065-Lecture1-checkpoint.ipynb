{
 "cells": [
  {
   "cell_type": "markdown",
   "metadata": {},
   "source": [
    "<script type=\"text/javascript\" src=\"http://cdn.mathjax.org/mathjax/latest/MathJax.js?config=default\"></script>\n",
    "# Lecture 1 -  MIT 18.065"
   ]
  },
  {
   "cell_type": "markdown",
   "metadata": {},
   "source": [
    "Two ways to understand matrix_multiplication, e.g. C=AB:\n",
    "1. pure dot product(old way)\n",
    "2. A's column K outer product B's row K."
   ]
  },
  {
   "cell_type": "code",
   "execution_count": 1,
   "metadata": {
    "ExecuteTime": {
     "end_time": "2019-06-14T00:33:36.908436Z",
     "start_time": "2019-06-14T00:33:36.850744Z"
    }
   },
   "outputs": [],
   "source": [
    "import numpy as np"
   ]
  },
  {
   "cell_type": "code",
   "execution_count": 2,
   "metadata": {
    "ExecuteTime": {
     "end_time": "2019-06-14T00:33:36.914124Z",
     "start_time": "2019-06-14T00:33:36.910623Z"
    }
   },
   "outputs": [],
   "source": [
    "A = np.random.randint(10, size=(4, 3))\n",
    "B = np.random.randint(10, size=(3, 2))"
   ]
  },
  {
   "cell_type": "markdown",
   "metadata": {},
   "source": [
    "## 1. pure dot product"
   ]
  },
  {
   "cell_type": "code",
   "execution_count": 3,
   "metadata": {
    "ExecuteTime": {
     "end_time": "2019-06-14T00:33:36.929075Z",
     "start_time": "2019-06-14T00:33:36.916546Z"
    }
   },
   "outputs": [
    {
     "data": {
      "text/plain": [
       "array([[ 52, 100],\n",
       "       [ 69,  69],\n",
       "       [ 34,  40],\n",
       "       [ 62,  46]])"
      ]
     },
     "execution_count": 3,
     "metadata": {},
     "output_type": "execute_result"
    }
   ],
   "source": [
    "np.dot(A, B)"
   ]
  },
  {
   "cell_type": "markdown",
   "metadata": {},
   "source": [
    "## 2. outer product"
   ]
  },
  {
   "cell_type": "code",
   "execution_count": 4,
   "metadata": {
    "ExecuteTime": {
     "end_time": "2019-06-14T00:33:36.937200Z",
     "start_time": "2019-06-14T00:33:36.931023Z"
    }
   },
   "outputs": [
    {
     "data": {
      "text/plain": [
       "array([[ 52, 100],\n",
       "       [ 69,  69],\n",
       "       [ 34,  40],\n",
       "       [ 62,  46]])"
      ]
     },
     "execution_count": 4,
     "metadata": {},
     "output_type": "execute_result"
    }
   ],
   "source": [
    "res = np.zeros((4, 2), dtype=int)\n",
    "for i in range(3):\n",
    "    res += np.outer(A.T[i], B[i])\n",
    "res"
   ]
  },
  {
   "cell_type": "markdown",
   "metadata": {},
   "source": [
    "## Problems for Lecture 1"
   ]
  },
  {
   "cell_type": "markdown",
   "metadata": {},
   "source": [
    "1. Give an example where a combination of three nonzero vectors in $R^4$ is the zero vector. Then write your example in the form $Ax = \\mathbf{0}$. What are the shapes of $A$ and $x$ and $\\mathbf{0}$ ? "
   ]
  },
  {
   "cell_type": "code",
   "execution_count": 20,
   "metadata": {
    "ExecuteTime": {
     "end_time": "2019-06-14T01:40:50.252647Z",
     "start_time": "2019-06-14T01:40:50.239762Z"
    }
   },
   "outputs": [
    {
     "name": "stdout",
     "output_type": "stream",
     "text": [
      "A = [[ 1  5  6]\n",
      " [ 2  6  8]\n",
      " [ 3  7 10]\n",
      " [ 4  8 12]]\n",
      "x = [[ 1]\n",
      " [ 1]\n",
      " [-1]]\n",
      "res = [[0]\n",
      " [0]\n",
      " [0]\n",
      " [0]]\n"
     ]
    }
   ],
   "source": [
    "u = np.array([1,2,3,4])\n",
    "v = np.array([5,6,7,8])\n",
    "A = np.array([u, v, u+v]).T\n",
    "x = np.array([1,1,-1]).reshape((3,1))\n",
    "res = np.dot(A, x)\n",
    "print(\"A = {0}\".format(A))\n",
    "print(\"x = {0}\".format(x))\n",
    "print(\"res = {0}\".format(res))"
   ]
  },
  {
   "cell_type": "markdown",
   "metadata": {},
   "source": [
    "4. x is (1,-1,0), y is (1,0,-1). Because the rank of ones(3,3) is 1, you can only find two independent vector with Ax=0. "
   ]
  },
  {
   "cell_type": "markdown",
   "metadata": {},
   "source": [
    "9. m==3, n>=3, r=3."
   ]
  },
  {
   "cell_type": "markdown",
   "metadata": {},
   "source": [
    "18.\n",
    "$$\\begin{equation*}\n",
    "\\left[\\begin{matrix}\n",
    " 0 & A \\\\\n",
    " 0 & A \\\\\n",
    "\\end{matrix}\\right]\n",
    "=\n",
    "\\left[\\begin{matrix}\n",
    " C \\\\\n",
    " C \\\\\n",
    "\\end{matrix}\\right]\n",
    "\\left[\\begin{matrix}\n",
    " 0 & R \\\\\n",
    "\\end{matrix}\\right]\n",
    "\\end{equation*}$$"
   ]
  },
  {
   "cell_type": "markdown",
   "metadata": {},
   "source": []
  }
 ],
 "metadata": {
  "kernelspec": {
   "display_name": "Python 3",
   "language": "python",
   "name": "python3"
  },
  "language_info": {
   "codemirror_mode": {
    "name": "ipython",
    "version": 3
   },
   "file_extension": ".py",
   "mimetype": "text/x-python",
   "name": "python",
   "nbconvert_exporter": "python",
   "pygments_lexer": "ipython3",
   "version": "3.7.3"
  },
  "varInspector": {
   "cols": {
    "lenName": 16,
    "lenType": 16,
    "lenVar": 40
   },
   "kernels_config": {
    "python": {
     "delete_cmd_postfix": "",
     "delete_cmd_prefix": "del ",
     "library": "var_list.py",
     "varRefreshCmd": "print(var_dic_list())"
    },
    "r": {
     "delete_cmd_postfix": ") ",
     "delete_cmd_prefix": "rm(",
     "library": "var_list.r",
     "varRefreshCmd": "cat(var_dic_list()) "
    }
   },
   "position": {
    "height": "199.5px",
    "left": "910px",
    "right": "20px",
    "top": "120px",
    "width": "350px"
   },
   "types_to_exclude": [
    "module",
    "function",
    "builtin_function_or_method",
    "instance",
    "_Feature"
   ],
   "window_display": false
  }
 },
 "nbformat": 4,
 "nbformat_minor": 2
}
