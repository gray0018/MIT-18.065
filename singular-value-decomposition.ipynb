{
 "cells": [
  {
   "cell_type": "code",
   "execution_count": 1,
   "metadata": {
    "ExecuteTime": {
     "end_time": "2019-07-11T08:25:35.434891Z",
     "start_time": "2019-07-11T08:25:35.429671Z"
    }
   },
   "outputs": [],
   "source": [
    "import numpy as np"
   ]
  },
  {
   "cell_type": "code",
   "execution_count": 8,
   "metadata": {
    "ExecuteTime": {
     "end_time": "2019-07-11T08:27:22.568995Z",
     "start_time": "2019-07-11T08:27:22.561170Z"
    }
   },
   "outputs": [
    {
     "data": {
      "text/plain": [
       "array([[0.67471543, 0.13541993, 0.51118397, 0.23693847],\n",
       "       [0.63974657, 0.64899797, 0.17383939, 0.28681777],\n",
       "       [0.94293995, 0.62750597, 0.61805803, 0.03387825]])"
      ]
     },
     "execution_count": 8,
     "metadata": {},
     "output_type": "execute_result"
    }
   ],
   "source": [
    "A = np.random.rand(3, 4)\n",
    "A"
   ]
  },
  {
   "cell_type": "code",
   "execution_count": 10,
   "metadata": {
    "ExecuteTime": {
     "end_time": "2019-07-11T08:28:53.861205Z",
     "start_time": "2019-07-11T08:28:53.855122Z"
    }
   },
   "outputs": [],
   "source": [
    "U, S, V = np.linalg.svd(A)"
   ]
  },
  {
   "cell_type": "code",
   "execution_count": 18,
   "metadata": {
    "ExecuteTime": {
     "end_time": "2019-07-11T08:31:40.413818Z",
     "start_time": "2019-07-11T08:31:40.403857Z"
    }
   },
   "outputs": [
    {
     "data": {
      "text/plain": [
       "(array([[ 1.00000000e+00, -1.82536858e-16,  3.10043038e-16],\n",
       "        [-1.82536858e-16,  1.00000000e+00,  2.49521181e-16],\n",
       "        [ 3.10043038e-16,  2.49521181e-16,  1.00000000e+00]]),\n",
       " array([[ 1.00000000e+00, -1.95951535e-16,  5.56485757e-17],\n",
       "        [-1.95951535e-16,  1.00000000e+00, -1.09395876e-16],\n",
       "        [ 5.56485757e-17, -1.09395876e-16,  1.00000000e+00]]),\n",
       " array([[False, False, False],\n",
       "        [False, False, False],\n",
       "        [False, False,  True]]))"
      ]
     },
     "execution_count": 18,
     "metadata": {},
     "output_type": "execute_result"
    }
   ],
   "source": [
    "np.dot(U, U.T), np.dot(U.T, U), np.linalg.inv(U)==U.T"
   ]
  }
 ],
 "metadata": {
  "kernelspec": {
   "display_name": "Python 3",
   "language": "python",
   "name": "python3"
  },
  "language_info": {
   "codemirror_mode": {
    "name": "ipython",
    "version": 3
   },
   "file_extension": ".py",
   "mimetype": "text/x-python",
   "name": "python",
   "nbconvert_exporter": "python",
   "pygments_lexer": "ipython3",
   "version": "3.7.3"
  },
  "varInspector": {
   "cols": {
    "lenName": 16,
    "lenType": 16,
    "lenVar": 40
   },
   "kernels_config": {
    "python": {
     "delete_cmd_postfix": "",
     "delete_cmd_prefix": "del ",
     "library": "var_list.py",
     "varRefreshCmd": "print(var_dic_list())"
    },
    "r": {
     "delete_cmd_postfix": ") ",
     "delete_cmd_prefix": "rm(",
     "library": "var_list.r",
     "varRefreshCmd": "cat(var_dic_list()) "
    }
   },
   "types_to_exclude": [
    "module",
    "function",
    "builtin_function_or_method",
    "instance",
    "_Feature"
   ],
   "window_display": false
  }
 },
 "nbformat": 4,
 "nbformat_minor": 2
}
