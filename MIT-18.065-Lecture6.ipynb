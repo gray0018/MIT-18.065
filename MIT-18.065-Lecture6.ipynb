{
 "cells": [
  {
   "cell_type": "markdown",
   "metadata": {},
   "source": [
    "<script type=\"text/javascript\" src=\"http://cdn.mathjax.org/mathjax/latest/MathJax.js?config=default\"></script>\n",
    "# Lecture 6 -  MIT 18.065"
   ]
  },
  {
   "cell_type": "markdown",
   "metadata": {},
   "source": [
    "Symmetric matrix's eigenvalues and eigenvectors."
   ]
  },
  {
   "cell_type": "code",
   "execution_count": 1,
   "metadata": {
    "ExecuteTime": {
     "end_time": "2019-07-12T06:55:34.675301Z",
     "start_time": "2019-07-12T06:55:34.669558Z"
    }
   },
   "outputs": [],
   "source": [
    "import numpy as np"
   ]
  },
  {
   "cell_type": "markdown",
   "metadata": {},
   "source": [
    "#### For each eigenvector $x$ and corresponding eigenvalue $\\lambda$, $Ax=\\lambda x$"
   ]
  },
  {
   "cell_type": "code",
   "execution_count": 63,
   "metadata": {
    "ExecuteTime": {
     "end_time": "2019-07-12T07:28:15.189052Z",
     "start_time": "2019-07-12T07:28:15.178924Z"
    }
   },
   "outputs": [
    {
     "name": "stdout",
     "output_type": "stream",
     "text": [
      "True\n",
      "True\n",
      "True\n"
     ]
    }
   ],
   "source": [
    "A = np.asarray([[1,2,3], [2,1,5], [3,5,1]])\n",
    "np.linalg.matrix_rank(A)\n",
    "w, v = np.linalg.eig(A)\n",
    "for i in range(A.shape[0]):\n",
    "    print(np.allclose(np.dot(A, v[:,i]), w[i]*v[:,i]))"
   ]
  },
  {
   "cell_type": "markdown",
   "metadata": {},
   "source": [
    "For square matrix, $S=Q\\Lambda Q^{T}$, no need to be symmetric"
   ]
  },
  {
   "cell_type": "code",
   "execution_count": 86,
   "metadata": {
    "ExecuteTime": {
     "end_time": "2019-07-12T07:45:46.183912Z",
     "start_time": "2019-07-12T07:45:46.170813Z"
    }
   },
   "outputs": [
    {
     "data": {
      "text/plain": [
       "True"
      ]
     },
     "execution_count": 86,
     "metadata": {},
     "output_type": "execute_result"
    }
   ],
   "source": [
    "A = np.asarray([[1,2,3], [2,1,5], [3,5,111]])\n",
    "w, v = np.linalg.eig(A)\n",
    "np.allclose(A, np.dot(np.dot(v, np.diag(w)), v.T))"
   ]
  },
  {
   "cell_type": "markdown",
   "metadata": {},
   "source": [
    "#### All eigenvectors are orthogonal."
   ]
  },
  {
   "cell_type": "code",
   "execution_count": 65,
   "metadata": {
    "ExecuteTime": {
     "end_time": "2019-07-12T07:28:56.364168Z",
     "start_time": "2019-07-12T07:28:56.351523Z"
    }
   },
   "outputs": [
    {
     "data": {
      "text/plain": [
       "(True, True, True)"
      ]
     },
     "execution_count": 65,
     "metadata": {},
     "output_type": "execute_result"
    }
   ],
   "source": [
    "A = np.asarray([[1,2,3], [2,1,5], [3,5,1]])\n",
    "np.linalg.matrix_rank(A)\n",
    "w, v = np.linalg.eig(A)\n",
    "np.allclose(np.dot(v[:,0],v[:,1]), 0),\\\n",
    "np.allclose(np.dot(v[:,0],v[:,2]), 0),\\\n",
    "np.allclose(np.dot(v[:,1],v[:,2]), 0)"
   ]
  },
  {
   "cell_type": "markdown",
   "metadata": {
    "ExecuteTime": {
     "end_time": "2019-06-14T00:33:36.914124Z",
     "start_time": "2019-06-14T00:33:36.910623Z"
    }
   },
   "source": [
    "#### For the unsymmetric matrix. Eigenvectors are not orthogonal."
   ]
  },
  {
   "cell_type": "code",
   "execution_count": 71,
   "metadata": {
    "ExecuteTime": {
     "end_time": "2019-07-12T07:34:09.748954Z",
     "start_time": "2019-07-12T07:34:09.732647Z"
    }
   },
   "outputs": [
    {
     "data": {
      "text/plain": [
       "(False, False, False)"
      ]
     },
     "execution_count": 71,
     "metadata": {},
     "output_type": "execute_result"
    }
   ],
   "source": [
    "B = np.asarray([[7,1,2], [11,3,9], [3,5,1]])\n",
    "w, v = np.linalg.eig(B)\n",
    "np.allclose(np.dot(v[:,0],v[:,1]), 0),\\\n",
    "np.allclose(np.dot(v[:,0],v[:,2]), 0),\\\n",
    "np.allclose(np.dot(v[:,1],v[:,2]), 0)"
   ]
  },
  {
   "cell_type": "markdown",
   "metadata": {},
   "source": [
    "#### For the unsymmetric matrix. Singular vectors are orthogonal."
   ]
  },
  {
   "cell_type": "code",
   "execution_count": 70,
   "metadata": {
    "ExecuteTime": {
     "end_time": "2019-07-12T07:34:04.225105Z",
     "start_time": "2019-07-12T07:34:04.210267Z"
    }
   },
   "outputs": [
    {
     "data": {
      "text/plain": [
       "(True, True, True, True, True, True)"
      ]
     },
     "execution_count": 70,
     "metadata": {},
     "output_type": "execute_result"
    }
   ],
   "source": [
    "B = np.asarray([[7,1,2], [11,3,9], [3,5,1]])\n",
    "U, S, V = np.linalg.svd(B)\n",
    "np.allclose(np.dot(U[:,0],U[:,1]), 0),\\\n",
    "np.allclose(np.dot(U[:,0],U[:,2]), 0),\\\n",
    "np.allclose(np.dot(U[:,1],U[:,2]), 0),\\\n",
    "np.allclose(np.dot(V[:,0],V[:,1]), 0),\\\n",
    "np.allclose(np.dot(V[:,0],V[:,2]), 0),\\\n",
    "np.allclose(np.dot(V[:,1],V[:,2]), 0)"
   ]
  },
  {
   "cell_type": "markdown",
   "metadata": {},
   "source": [
    "#### Compare the eigenvalue and singular value\n",
    "For symmetric matrix, eigenvalue equals to singular value."
   ]
  },
  {
   "cell_type": "code",
   "execution_count": 69,
   "metadata": {
    "ExecuteTime": {
     "end_time": "2019-07-12T07:33:44.207768Z",
     "start_time": "2019-07-12T07:33:44.192609Z"
    }
   },
   "outputs": [
    {
     "data": {
      "text/plain": [
       "(True, True, True)"
      ]
     },
     "execution_count": 69,
     "metadata": {},
     "output_type": "execute_result"
    }
   ],
   "source": [
    "A = np.asarray([[1,2,3], [2,1,5], [3,5,1]])\n",
    "np.linalg.matrix_rank(A)\n",
    "w, v = np.linalg.eig(A)\n",
    "U, S, V = np.linalg.svd(A)\n",
    "\n",
    "np.allclose(v[:,0], -V[0]),\\\n",
    "np.allclose(v[:,1], V[2]),\\\n",
    "np.allclose(v[:,2], -V[1])"
   ]
  },
  {
   "cell_type": "code",
   "execution_count": 81,
   "metadata": {
    "ExecuteTime": {
     "end_time": "2019-07-12T07:41:04.280010Z",
     "start_time": "2019-07-12T07:41:04.266904Z"
    }
   },
   "outputs": [
    {
     "data": {
      "text/plain": [
       "array([[1., 2., 3.],\n",
       "       [2., 1., 5.],\n",
       "       [3., 5., 1.]])"
      ]
     },
     "execution_count": 81,
     "metadata": {},
     "output_type": "execute_result"
    }
   ],
   "source": [
    "\n",
    "\n",
    "\n",
    "# B = np.asarray([[7,1,2], [11,3,9], [3,5,1], [17,13,4]])\n",
    "# U, S, V = np.linalg.svd(B)\n",
    "# np.linalg.svd(B)\n",
    "\n",
    "\n",
    "\n",
    "\n",
    "\n"
   ]
  },
  {
   "cell_type": "markdown",
   "metadata": {},
   "source": [
    "## 1. pure dot product"
   ]
  },
  {
   "cell_type": "code",
   "execution_count": 3,
   "metadata": {
    "ExecuteTime": {
     "end_time": "2019-06-14T00:33:36.929075Z",
     "start_time": "2019-06-14T00:33:36.916546Z"
    }
   },
   "outputs": [
    {
     "data": {
      "text/plain": [
       "array([[ 52, 100],\n",
       "       [ 69,  69],\n",
       "       [ 34,  40],\n",
       "       [ 62,  46]])"
      ]
     },
     "execution_count": 3,
     "metadata": {},
     "output_type": "execute_result"
    }
   ],
   "source": [
    "np.dot(A, B)"
   ]
  },
  {
   "cell_type": "markdown",
   "metadata": {},
   "source": [
    "## 2. outer product"
   ]
  },
  {
   "cell_type": "code",
   "execution_count": 4,
   "metadata": {
    "ExecuteTime": {
     "end_time": "2019-06-14T00:33:36.937200Z",
     "start_time": "2019-06-14T00:33:36.931023Z"
    }
   },
   "outputs": [
    {
     "data": {
      "text/plain": [
       "array([[ 52, 100],\n",
       "       [ 69,  69],\n",
       "       [ 34,  40],\n",
       "       [ 62,  46]])"
      ]
     },
     "execution_count": 4,
     "metadata": {},
     "output_type": "execute_result"
    }
   ],
   "source": [
    "res = np.zeros((4, 2), dtype=int)\n",
    "for i in range(3):\n",
    "    res += np.outer(A.T[i], B[i])\n",
    "res"
   ]
  },
  {
   "cell_type": "markdown",
   "metadata": {},
   "source": [
    "## Problems for Lecture 1"
   ]
  },
  {
   "cell_type": "markdown",
   "metadata": {},
   "source": [
    "$1$. Give an example where a combination of three nonzero vectors in $R^4$ is the zero vector. Then write your example in the form $Ax = \\mathbf{0}$. What are the shapes of $A$ and $x$ and $\\mathbf{0}$ ? "
   ]
  },
  {
   "cell_type": "code",
   "execution_count": 20,
   "metadata": {
    "ExecuteTime": {
     "end_time": "2019-06-14T01:40:50.252647Z",
     "start_time": "2019-06-14T01:40:50.239762Z"
    }
   },
   "outputs": [
    {
     "name": "stdout",
     "output_type": "stream",
     "text": [
      "A = [[ 1  5  6]\n",
      " [ 2  6  8]\n",
      " [ 3  7 10]\n",
      " [ 4  8 12]]\n",
      "x = [[ 1]\n",
      " [ 1]\n",
      " [-1]]\n",
      "res = [[0]\n",
      " [0]\n",
      " [0]\n",
      " [0]]\n"
     ]
    }
   ],
   "source": [
    "u = np.array([1,2,3,4])\n",
    "v = np.array([5,6,7,8])\n",
    "A = np.array([u, v, u+v]).T\n",
    "x = np.array([1,1,-1]).reshape((3,1))\n",
    "res = np.dot(A, x)\n",
    "print(\"A = {0}\".format(A))\n",
    "print(\"x = {0}\".format(x))\n",
    "print(\"res = {0}\".format(res))"
   ]
  },
  {
   "cell_type": "markdown",
   "metadata": {},
   "source": [
    "$4$. $x$ is $(1,-1,0)$, $y$ is $(1,0,-1)$. Because the rank of ones(3,3) is 1, you can only find two independent vector with $Ax=0$. $"
   ]
  },
  {
   "cell_type": "markdown",
   "metadata": {},
   "source": [
    "$9$. $m=3$, $n\\geq3$, $r=3$"
   ]
  },
  {
   "cell_type": "markdown",
   "metadata": {},
   "source": [
    "$18$.\n",
    "$$\\begin{equation*}\\left[\\begin{matrix}0 & A \\\\0 & A \\\\\\end{matrix}\\right]=\\left[\\begin{matrix} C \\\\ C \\\\\\end{matrix}\\right]\\left[\\begin{matrix} 0 & R \\\\\\end{matrix}\\right]\\end{equation*}$$"
   ]
  }
 ],
 "metadata": {
  "kernelspec": {
   "display_name": "Python 3",
   "language": "python",
   "name": "python3"
  },
  "language_info": {
   "codemirror_mode": {
    "name": "ipython",
    "version": 3
   },
   "file_extension": ".py",
   "mimetype": "text/x-python",
   "name": "python",
   "nbconvert_exporter": "python",
   "pygments_lexer": "ipython3",
   "version": "3.7.3"
  },
  "varInspector": {
   "cols": {
    "lenName": 16,
    "lenType": 16,
    "lenVar": 40
   },
   "kernels_config": {
    "python": {
     "delete_cmd_postfix": "",
     "delete_cmd_prefix": "del ",
     "library": "var_list.py",
     "varRefreshCmd": "print(var_dic_list())"
    },
    "r": {
     "delete_cmd_postfix": ") ",
     "delete_cmd_prefix": "rm(",
     "library": "var_list.r",
     "varRefreshCmd": "cat(var_dic_list()) "
    }
   },
   "position": {
    "height": "199.5px",
    "left": "910px",
    "right": "20px",
    "top": "120px",
    "width": "350px"
   },
   "types_to_exclude": [
    "module",
    "function",
    "builtin_function_or_method",
    "instance",
    "_Feature"
   ],
   "window_display": false
  }
 },
 "nbformat": 4,
 "nbformat_minor": 2
}
