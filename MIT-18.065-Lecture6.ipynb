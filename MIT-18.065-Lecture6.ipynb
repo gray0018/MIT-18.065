{
 "cells": [
  {
   "cell_type": "markdown",
   "metadata": {},
   "source": [
    "<script type=\"text/javascript\" src=\"http://cdn.mathjax.org/mathjax/latest/MathJax.js?config=default\"></script>\n",
    "# Lecture 6 -  MIT 18.065"
   ]
  },
  {
   "cell_type": "markdown",
   "metadata": {},
   "source": [
    "Symmetric matrix's eigenvalues and eigenvectors."
   ]
  },
  {
   "cell_type": "code",
   "execution_count": 22,
   "metadata": {
    "ExecuteTime": {
     "end_time": "2019-07-14T04:46:17.896033Z",
     "start_time": "2019-07-14T04:46:17.833117Z"
    }
   },
   "outputs": [],
   "source": [
    "import numpy as np"
   ]
  },
  {
   "cell_type": "markdown",
   "metadata": {},
   "source": [
    "### 1. For each eigenvector $x$ and corresponding eigenvalue $\\lambda$, $Ax=\\lambda x$"
   ]
  },
  {
   "cell_type": "code",
   "execution_count": 63,
   "metadata": {
    "ExecuteTime": {
     "end_time": "2019-07-12T07:28:15.189052Z",
     "start_time": "2019-07-12T07:28:15.178924Z"
    }
   },
   "outputs": [
    {
     "name": "stdout",
     "output_type": "stream",
     "text": [
      "True\n",
      "True\n",
      "True\n"
     ]
    }
   ],
   "source": [
    "A = np.asarray([[1,2,3], [2,1,5], [3,5,1]])\n",
    "np.linalg.matrix_rank(A)\n",
    "w, v = np.linalg.eig(A)\n",
    "for i in range(A.shape[0]):\n",
    "    print(np.allclose(np.dot(A, v[:,i]), w[i]*v[:,i]))"
   ]
  },
  {
   "cell_type": "markdown",
   "metadata": {},
   "source": [
    "### 2. For square matrix, $S=Q\\Lambda Q^{T}$, no need to be symmetric"
   ]
  },
  {
   "cell_type": "code",
   "execution_count": 86,
   "metadata": {
    "ExecuteTime": {
     "end_time": "2019-07-12T07:45:46.183912Z",
     "start_time": "2019-07-12T07:45:46.170813Z"
    }
   },
   "outputs": [
    {
     "data": {
      "text/plain": [
       "True"
      ]
     },
     "execution_count": 86,
     "metadata": {},
     "output_type": "execute_result"
    }
   ],
   "source": [
    "A = np.asarray([[1,2,3], [2,1,5], [3,5,111]])\n",
    "w, v = np.linalg.eig(A)\n",
    "np.allclose(A, np.dot(np.dot(v, np.diag(w)), v.T))"
   ]
  },
  {
   "cell_type": "markdown",
   "metadata": {},
   "source": [
    "### 3. For symmetric matrix, eigenvectors are orthogonal."
   ]
  },
  {
   "cell_type": "code",
   "execution_count": 4,
   "metadata": {
    "ExecuteTime": {
     "end_time": "2019-07-14T04:16:51.448129Z",
     "start_time": "2019-07-14T04:16:51.424671Z"
    }
   },
   "outputs": [
    {
     "data": {
      "text/plain": [
       "(True, True, True)"
      ]
     },
     "execution_count": 4,
     "metadata": {},
     "output_type": "execute_result"
    }
   ],
   "source": [
    "A = np.asarray([[1,2,3], [2,1,5], [3,5,1]])\n",
    "np.linalg.matrix_rank(A)\n",
    "w, v = np.linalg.eig(A)\n",
    "np.allclose(np.dot(v[:,0],v[:,1]), 0),\\\n",
    "np.allclose(np.dot(v[:,0],v[:,2]), 0),\\\n",
    "np.allclose(np.dot(v[:,1],v[:,2]), 0)"
   ]
  },
  {
   "cell_type": "markdown",
   "metadata": {
    "ExecuteTime": {
     "end_time": "2019-06-14T00:33:36.914124Z",
     "start_time": "2019-06-14T00:33:36.910623Z"
    }
   },
   "source": [
    "### 4. For the unsymmetric matrix, eigenvectors are not orthogonal."
   ]
  },
  {
   "cell_type": "code",
   "execution_count": 71,
   "metadata": {
    "ExecuteTime": {
     "end_time": "2019-07-12T07:34:09.748954Z",
     "start_time": "2019-07-12T07:34:09.732647Z"
    }
   },
   "outputs": [
    {
     "data": {
      "text/plain": [
       "(False, False, False)"
      ]
     },
     "execution_count": 71,
     "metadata": {},
     "output_type": "execute_result"
    }
   ],
   "source": [
    "B = np.asarray([[7,1,2], [11,3,9], [3,5,1]])\n",
    "w, v = np.linalg.eig(B)\n",
    "np.allclose(np.dot(v[:,0],v[:,1]), 0),\\\n",
    "np.allclose(np.dot(v[:,0],v[:,2]), 0),\\\n",
    "np.allclose(np.dot(v[:,1],v[:,2]), 0)"
   ]
  },
  {
   "cell_type": "markdown",
   "metadata": {},
   "source": [
    "### 5. For the unsymmetric matrix. Singular vectors are orthogonal."
   ]
  },
  {
   "cell_type": "code",
   "execution_count": 70,
   "metadata": {
    "ExecuteTime": {
     "end_time": "2019-07-12T07:34:04.225105Z",
     "start_time": "2019-07-12T07:34:04.210267Z"
    }
   },
   "outputs": [
    {
     "data": {
      "text/plain": [
       "(True, True, True, True, True, True)"
      ]
     },
     "execution_count": 70,
     "metadata": {},
     "output_type": "execute_result"
    }
   ],
   "source": [
    "B = np.asarray([[7,1,2], [11,3,9], [3,5,1]])\n",
    "U, S, V = np.linalg.svd(B)\n",
    "np.allclose(np.dot(U[:,0],U[:,1]), 0),\\\n",
    "np.allclose(np.dot(U[:,0],U[:,2]), 0),\\\n",
    "np.allclose(np.dot(U[:,1],U[:,2]), 0),\\\n",
    "np.allclose(np.dot(V[:,0],V[:,1]), 0),\\\n",
    "np.allclose(np.dot(V[:,0],V[:,2]), 0),\\\n",
    "np.allclose(np.dot(V[:,1],V[:,2]), 0)"
   ]
  },
  {
   "cell_type": "markdown",
   "metadata": {},
   "source": [
    "### 5 .Compare the eigenvalue and singular value\n",
    "For symmetric matrix, eigenvalue equals to singular value."
   ]
  },
  {
   "cell_type": "code",
   "execution_count": 69,
   "metadata": {
    "ExecuteTime": {
     "end_time": "2019-07-12T07:33:44.207768Z",
     "start_time": "2019-07-12T07:33:44.192609Z"
    }
   },
   "outputs": [
    {
     "data": {
      "text/plain": [
       "(True, True, True)"
      ]
     },
     "execution_count": 69,
     "metadata": {},
     "output_type": "execute_result"
    }
   ],
   "source": [
    "A = np.asarray([[1,2,3], [2,1,5], [3,5,1]])\n",
    "np.linalg.matrix_rank(A)\n",
    "w, v = np.linalg.eig(A)\n",
    "U, S, V = np.linalg.svd(A)\n",
    "\n",
    "np.allclose(v[:,0], -V[0]),\\\n",
    "np.allclose(v[:,1], V[2]),\\\n",
    "np.allclose(v[:,2], -V[1])"
   ]
  },
  {
   "cell_type": "markdown",
   "metadata": {},
   "source": [
    "### 6. $A$ is unsymmetric, $AA^{T}$ eigenvalue is square of A singular value"
   ]
  },
  {
   "cell_type": "code",
   "execution_count": 15,
   "metadata": {
    "ExecuteTime": {
     "end_time": "2019-07-14T04:27:47.460126Z",
     "start_time": "2019-07-14T04:27:47.447634Z"
    }
   },
   "outputs": [
    {
     "data": {
      "text/plain": [
       "(True, True, True)"
      ]
     },
     "execution_count": 15,
     "metadata": {},
     "output_type": "execute_result"
    }
   ],
   "source": [
    "B = np.asarray([[7,1,2], [11,3,9], [3,5,1], [17,13,4]])\n",
    "U, S, V = np.linalg.svd(B)\n",
    "A = np.dot(B, B.T)\n",
    "w, v = np.linalg.eig(A)\n",
    "\n",
    "np.allclose(S[0]**2, w[0]),\\\n",
    "np.allclose(S[1]**2, w[1]),\\\n",
    "np.allclose(S[2]**2, w[2])\n"
   ]
  },
  {
   "cell_type": "markdown",
   "metadata": {},
   "source": [
    "### 7. $B$ is $4\\times3$ matrix, $B^{T}B$ is $3\\times3$, $BB^{T}$ is $4\\times4$\n",
    "$B^{T}B$ has 3 eigenvalue. $BB^{T}$ has 4 eigenvalue, three of them are same with $B^{T}B$, another one is 0\n",
    "<br> Non-zero eigenvalues are the same."
   ]
  },
  {
   "cell_type": "code",
   "execution_count": 141,
   "metadata": {
    "ExecuteTime": {
     "end_time": "2019-07-14T10:53:39.514335Z",
     "start_time": "2019-07-14T10:53:39.502355Z"
    }
   },
   "outputs": [
    {
     "data": {
      "text/plain": [
       "(True, True, True, True)"
      ]
     },
     "execution_count": 141,
     "metadata": {},
     "output_type": "execute_result"
    }
   ],
   "source": [
    "B = np.asarray([[7,1,2], [11,3,9], [3,5,1], [17,13,4]])\n",
    "A1 = np.dot(B.T, B)\n",
    "A2 = np.dot(B, B.T)\n",
    "w1, v1 = np.linalg.eig(A1)\n",
    "w2, v2 = np.linalg.eig(A2)\n",
    "np.allclose(w1[0], w2[0]),\\\n",
    "np.allclose(w1[1], w2[2]),\\\n",
    "np.allclose(w1[2], w2[1]),\\\n",
    "np.allclose(0, w2[3])"
   ]
  },
  {
   "cell_type": "markdown",
   "metadata": {
    "ExecuteTime": {
     "end_time": "2019-07-14T08:22:34.063421Z",
     "start_time": "2019-07-14T08:22:34.056434Z"
    }
   },
   "source": [
    "For $BB^{T}$, eigenvalue $0$ correspondes to eigenvector, which also in nullspace."
   ]
  },
  {
   "cell_type": "code",
   "execution_count": 161,
   "metadata": {
    "ExecuteTime": {
     "end_time": "2019-07-14T11:00:56.860482Z",
     "start_time": "2019-07-14T11:00:56.849502Z"
    }
   },
   "outputs": [
    {
     "data": {
      "text/plain": [
       "array([[0.43189847]])"
      ]
     },
     "execution_count": 161,
     "metadata": {},
     "output_type": "execute_result"
    }
   ],
   "source": [
    "from scipy.linalg import null_space\n",
    "np.allclose(-v2[:, -1], null_space(A2).T)\n",
    "np.linalg.matrix_rank(null_space(A2)*np.linalg.svd(B)[0][-1])\n",
    "\n",
    "np.dot(np.linalg.svd(B)[0][-1].reshape((1, 4)), null_space(A2))/\\\n",
    "np.linalg.norm(np.linalg.svd(B)[0][-1])/\\\n",
    "np.linalg.norm(null_space(A2))"
   ]
  },
  {
   "cell_type": "markdown",
   "metadata": {},
   "source": [
    "For unsymmetric matrix $A$, size $m\\times n$.<br>\n",
    "$SVD(A)=U\\Sigma V^{T}$<br>\n",
    "$U=eig(AA^{T})$<br>\n",
    "$V=eig(A^{T}A)$\n"
   ]
  },
  {
   "cell_type": "code",
   "execution_count": 88,
   "metadata": {
    "ExecuteTime": {
     "end_time": "2019-07-14T09:20:40.331008Z",
     "start_time": "2019-07-14T09:20:40.318517Z"
    }
   },
   "outputs": [
    {
     "data": {
      "text/plain": [
       "(True, True)"
      ]
     },
     "execution_count": 88,
     "metadata": {},
     "output_type": "execute_result"
    }
   ],
   "source": [
    "A = np.asarray([[7,1,2], [11,3,9], [3,5,1], [17,13,4]])\n",
    "w1, u = np.linalg.eig(np.dot(A, A.T))\n",
    "w2, v = np.linalg.eig(np.dot(A.T, A))\n",
    "U, S, VT = np.linalg.svd(A)\n",
    "\n",
    "U[:, 0] = -U[:,0]\n",
    "v = v.T\n",
    "v[0] = -v[0]\n",
    "v[1], v[2] = v[2], v[1].copy()\n",
    "\n",
    "np.allclose(U, u),\\\n",
    "np.allclose(VT, v)"
   ]
  },
  {
   "cell_type": "markdown",
   "metadata": {},
   "source": [
    "$Av=\\sigma u$"
   ]
  },
  {
   "cell_type": "code",
   "execution_count": 102,
   "metadata": {
    "ExecuteTime": {
     "end_time": "2019-07-14T10:13:51.380484Z",
     "start_time": "2019-07-14T10:13:51.369988Z"
    }
   },
   "outputs": [
    {
     "data": {
      "text/plain": [
       "(True, True)"
      ]
     },
     "execution_count": 102,
     "metadata": {},
     "output_type": "execute_result"
    }
   ],
   "source": [
    "A = np.asarray([[7,1,2], [11,3,9], [3,5,1], [17,13,4]])\n",
    "U, S, VT = np.linalg.svd(A)\n",
    "np.allclose(np.dot(A, VT[0]), U[:, 0]*S[0]),\\\n",
    "np.allclose(np.dot(U[:, 0], A), VT[0]*S[0])"
   ]
  },
  {
   "cell_type": "code",
   "execution_count": 126,
   "metadata": {
    "ExecuteTime": {
     "end_time": "2019-07-14T10:40:19.850270Z",
     "start_time": "2019-07-14T10:40:19.838789Z"
    }
   },
   "outputs": [
    {
     "data": {
      "text/plain": [
       "True"
      ]
     },
     "execution_count": 126,
     "metadata": {},
     "output_type": "execute_result"
    }
   ],
   "source": [
    "np.dot(U[:, 0], np.asarray([S[0], 0, 0, 0]))\n",
    "# np.dot(), VT[0])\n",
    "B = \\\n",
    "np.dot(np.dot(A, VT[0].reshape((3, 1))), VT[0].reshape(1, 3))+\\\n",
    "np.dot(np.dot(A, VT[1].reshape((3, 1))), VT[1].reshape(1, 3))+\\\n",
    "np.dot(np.dot(A, VT[2].reshape((3, 1))), VT[2].reshape(1, 3))\n",
    "np.allclose(A, B)"
   ]
  },
  {
   "cell_type": "code",
   "execution_count": 133,
   "metadata": {
    "ExecuteTime": {
     "end_time": "2019-07-14T10:47:29.172526Z",
     "start_time": "2019-07-14T10:47:29.165539Z"
    }
   },
   "outputs": [
    {
     "data": {
      "text/plain": [
       "(array([[ 5.49321771,  3.36739589,  2.14242022],\n",
       "        [10.70046538,  6.55948936,  4.17330872],\n",
       "        [ 4.22481964,  2.58985554,  1.64772989],\n",
       "        [17.36327258, 10.64385499,  6.77188275]]),\n",
       " array([-0.80901007, -0.49593104, -0.31552355]),\n",
       " array([ -6.79004862, -13.22661581,  -5.22220897, -21.46236892]))"
      ]
     },
     "execution_count": 133,
     "metadata": {},
     "output_type": "execute_result"
    }
   ],
   "source": [
    "(U[:, 0]*S[0]).reshape((4, 1))*VT[0], VT[0], U[:, 0]*S[0]"
   ]
  },
  {
   "cell_type": "code",
   "execution_count": null,
   "metadata": {},
   "outputs": [],
   "source": []
  },
  {
   "cell_type": "code",
   "execution_count": null,
   "metadata": {},
   "outputs": [],
   "source": []
  },
  {
   "cell_type": "code",
   "execution_count": null,
   "metadata": {},
   "outputs": [],
   "source": []
  },
  {
   "cell_type": "markdown",
   "metadata": {},
   "source": [
    "## Problems for Lecture 1"
   ]
  },
  {
   "cell_type": "markdown",
   "metadata": {},
   "source": [
    "$1$. Give an example where a combination of three nonzero vectors in $R^4$ is the zero vector. Then write your example in the form $Ax = \\mathbf{0}$. What are the shapes of $A$ and $x$ and $\\mathbf{0}$ ? "
   ]
  },
  {
   "cell_type": "code",
   "execution_count": 20,
   "metadata": {
    "ExecuteTime": {
     "end_time": "2019-06-14T01:40:50.252647Z",
     "start_time": "2019-06-14T01:40:50.239762Z"
    }
   },
   "outputs": [
    {
     "name": "stdout",
     "output_type": "stream",
     "text": [
      "A = [[ 1  5  6]\n",
      " [ 2  6  8]\n",
      " [ 3  7 10]\n",
      " [ 4  8 12]]\n",
      "x = [[ 1]\n",
      " [ 1]\n",
      " [-1]]\n",
      "res = [[0]\n",
      " [0]\n",
      " [0]\n",
      " [0]]\n"
     ]
    }
   ],
   "source": [
    "u = np.array([1,2,3,4])\n",
    "v = np.array([5,6,7,8])\n",
    "A = np.array([u, v, u+v]).T\n",
    "x = np.array([1,1,-1]).reshape((3,1))\n",
    "res = np.dot(A, x)\n",
    "print(\"A = {0}\".format(A))\n",
    "print(\"x = {0}\".format(x))\n",
    "print(\"res = {0}\".format(res))"
   ]
  },
  {
   "cell_type": "markdown",
   "metadata": {},
   "source": [
    "$4$. $x$ is $(1,-1,0)$, $y$ is $(1,0,-1)$. Because the rank of ones(3,3) is 1, you can only find two independent vector with $Ax=0$. $"
   ]
  },
  {
   "cell_type": "markdown",
   "metadata": {},
   "source": [
    "$9$. $m=3$, $n\\geq3$, $r=3$"
   ]
  },
  {
   "cell_type": "markdown",
   "metadata": {},
   "source": [
    "$18$.\n",
    "$$\\begin{equation*}\\left[\\begin{matrix}0 & A \\\\0 & A \\\\\\end{matrix}\\right]=\\left[\\begin{matrix} C \\\\ C \\\\\\end{matrix}\\right]\\left[\\begin{matrix} 0 & R \\\\\\end{matrix}\\right]\\end{equation*}$$"
   ]
  }
 ],
 "metadata": {
  "kernelspec": {
   "display_name": "Python 3",
   "language": "python",
   "name": "python3"
  },
  "language_info": {
   "codemirror_mode": {
    "name": "ipython",
    "version": 3
   },
   "file_extension": ".py",
   "mimetype": "text/x-python",
   "name": "python",
   "nbconvert_exporter": "python",
   "pygments_lexer": "ipython3",
   "version": "3.7.3"
  },
  "varInspector": {
   "cols": {
    "lenName": 16,
    "lenType": 16,
    "lenVar": 40
   },
   "kernels_config": {
    "python": {
     "delete_cmd_postfix": "",
     "delete_cmd_prefix": "del ",
     "library": "var_list.py",
     "varRefreshCmd": "print(var_dic_list())"
    },
    "r": {
     "delete_cmd_postfix": ") ",
     "delete_cmd_prefix": "rm(",
     "library": "var_list.r",
     "varRefreshCmd": "cat(var_dic_list()) "
    }
   },
   "position": {
    "height": "199.5px",
    "left": "910px",
    "right": "20px",
    "top": "120px",
    "width": "350px"
   },
   "types_to_exclude": [
    "module",
    "function",
    "builtin_function_or_method",
    "instance",
    "_Feature"
   ],
   "window_display": false
  }
 },
 "nbformat": 4,
 "nbformat_minor": 2
}
